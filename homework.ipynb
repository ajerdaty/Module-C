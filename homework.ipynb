{
  "cells": [
    {
      "cell_type": "markdown",
      "metadata": {},
      "source": [
        "***********************************\n",
        "DX799 - Module C - Week #2 Notebook\n",
        "***********************************"
      ]
    },
    {
      "cell_type": "markdown",
      "metadata": {},
      "source": [
        "Topics to explore this week:"
      ]
    },
    {
      "cell_type": "markdown",
      "metadata": {},
      "source": [
        "- Linear Regression with\n",
        "    - lasso\n",
        "    - ridge\n",
        "    - elastic net"
      ]
    },
    {
      "cell_type": "markdown",
      "metadata": {},
      "source": [
        "Dataset #1 Regressions"
      ]
    },
    {
      "cell_type": "code",
      "execution_count": null,
      "metadata": {
        "vscode": {
          "languageId": "plaintext"
        }
      },
      "outputs": [],
      "source": [
        "# Get train/test split\n",
        "\n",
        "# Lasso Regression\n",
        "\n",
        "# Ridge Regression\n",
        "\n",
        "# Elastic Net Regression"
      ]
    },
    {
      "cell_type": "markdown",
      "metadata": {},
      "source": [
        "Dataset #2 Regressions"
      ]
    },
    {
      "cell_type": "code",
      "execution_count": null,
      "metadata": {
        "vscode": {
          "languageId": "plaintext"
        }
      },
      "outputs": [],
      "source": [
        "# Get train/test split\n",
        "\n",
        "# Lasso Regression\n",
        "\n",
        "# Ridge Regression\n",
        "\n",
        "# Elastic Net Regression"
      ]
    },
    {
      "cell_type": "markdown",
      "metadata": {},
      "source": [
        "Dataset #3 Regressions"
      ]
    },
    {
      "cell_type": "code",
      "execution_count": null,
      "metadata": {
        "vscode": {
          "languageId": "plaintext"
        }
      },
      "outputs": [],
      "source": [
        "# Get train/test split\n",
        "\n",
        "# Lasso Regression\n",
        "\n",
        "# Ridge Regression\n",
        "\n",
        "# Elastic Net Regression"
      ]
    }
  ],
  "metadata": {
    "colab": {
      "toc_visible": false
    },
    "kernelspec": {
      "display_name": "Python 3",
      "name": "python3"
    },
    "language_info": {
      "codemirror_mode": {
        "name": "ipython",
        "version": 3
      },
      "file_extension": ".py",
      "mimetype": "text/x-python",
      "name": "python",
      "nbconvert_exporter": "python",
      "pygments_lexer": "ipython3",
      "version": "3.12.1"
    }
  },
  "nbformat": 4,
  "nbformat_minor": 0
}
