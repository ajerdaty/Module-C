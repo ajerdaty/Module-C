{
  "cells": [
    {
      "cell_type": "markdown",
      "metadata": {},
      "source": [
        "***********************************\n",
        "DX799 - Module C - Week #2 Notebook\n",
        "***********************************"
      ]
    },
    {
      "cell_type": "markdown",
      "metadata": {},
      "source": [
        "Topics to explore this week:"
      ]
    },
    {
      "cell_type": "markdown",
      "metadata": {},
      "source": [
        "- Linear Regression with\n",
        "    - lasso\n",
        "    - ridge\n",
        "    - elastic net"
      ]
    },
    {
      "cell_type": "markdown",
      "metadata": {},
      "source": [
        "I just ran these regressions on my dataset, along with a baseline linear regression. I have concluded that I have some cleaning to do for my new dataset (dataset #4) that I added at the end of last semester. It produced some... *interesting* results."
      ]
    },
    {
      "cell_type": "markdown",
      "metadata": {},
      "source": [
        "Dataset #1 Regressions"
      ]
    },
    {
      "cell_type": "code",
      "execution_count": null,
      "metadata": {},
      "outputs": [
        {
          "name": "stderr",
          "output_type": "stream",
          "text": [
            "/tmp/ipykernel_5759/1448837797.py:8: DtypeWarning: Columns (9) have mixed types. Specify dtype option on import or set low_memory=False.\n",
            "  data1 = pd.read_csv(\"dataset1.csv\")\n"
          ]
        },
        {
          "name": "stdout",
          "output_type": "stream",
          "text": [
            "                          MSE        R2\n",
            "Linear Regression  211.893825  0.828209\n",
            "Lasso Regression   211.926500  0.828182\n",
            "Ridge Regression   211.893825  0.828209\n",
            "Elastic Net        211.907347  0.828198\n"
          ]
        }
      ],
      "source": [
        "import pandas as pd\n",
        "import numpy as np\n",
        "from sklearn.model_selection import train_test_split\n",
        "from sklearn.linear_model import LinearRegression, Lasso, Ridge, ElasticNet\n",
        "from sklearn.metrics import mean_squared_error, r2_score\n",
        "\n",
        "# Load dataset\n",
        "data1 = pd.read_csv(\"dataset1.csv\").dropna()\n",
        "\n",
        "# Train/test split\n",
        "target = \"ARR_DELAY\"\n",
        "X = data1.drop(columns=[target]).select_dtypes(include=np.number)\n",
        "y = data1[target]\n",
        "X_train, X_test, y_train, y_test = train_test_split(\n",
        "    X, y, test_size=0.2, random_state=42\n",
        ")\n",
        "\n",
        "# Define models\n",
        "models = {\n",
        "    \"Linear Regression\": LinearRegression(),\n",
        "    \"Lasso Regression\": Lasso(),\n",
        "    \"Ridge Regression\": Ridge(),\n",
        "    \"Elastic Net\": ElasticNet()\n",
        "}\n",
        "\n",
        "# Train and evaluate\n",
        "results = {}\n",
        "\n",
        "for name, model in models.items():\n",
        "    model.fit(X_train, y_train)\n",
        "    y_pred = model.predict(X_test)\n",
        "    \n",
        "    mse = mean_squared_error(y_test, y_pred)\n",
        "    r2 = r2_score(y_test, y_pred)\n",
        "    \n",
        "    results[name] = {\"MSE\": mse, \"R2\": r2}\n",
        "\n",
        "# Display results\n",
        "results_df = pd.DataFrame(results).T\n",
        "print(results_df)"
      ]
    },
    {
      "cell_type": "markdown",
      "metadata": {},
      "source": [
        "Dataset #2 Regressions"
      ]
    },
    {
      "cell_type": "code",
      "execution_count": 7,
      "metadata": {},
      "outputs": [
        {
          "name": "stdout",
          "output_type": "stream",
          "text": [
            "                          MSE        R2\n",
            "Linear Regression  177.236298  0.849344\n",
            "Lasso Regression   181.743998  0.845512\n",
            "Ridge Regression   177.215840  0.849361\n",
            "Elastic Net        181.432844  0.845777\n"
          ]
        }
      ],
      "source": [
        "# Load dataset\n",
        "data2 = pd.read_csv(\"dataset2.csv\").dropna()\n",
        "\n",
        "# Train/test split\n",
        "target = \"arrdelay\"\n",
        "X = data2.drop(columns=[target]).select_dtypes(include=np.number)\n",
        "y = data2[target]\n",
        "X_train, X_test, y_train, y_test = train_test_split(\n",
        "    X, y, test_size=0.2, random_state=42\n",
        ")\n",
        "\n",
        "# Define models\n",
        "models = {\n",
        "    \"Linear Regression\": LinearRegression(),\n",
        "    \"Lasso Regression\": Lasso(),\n",
        "    \"Ridge Regression\": Ridge(),\n",
        "    \"Elastic Net\": ElasticNet()\n",
        "}\n",
        "\n",
        "# Train and evaluate\n",
        "results = {}\n",
        "\n",
        "for name, model in models.items():\n",
        "    model.fit(X_train, y_train)\n",
        "    y_pred = model.predict(X_test)\n",
        "    \n",
        "    mse = mean_squared_error(y_test, y_pred)\n",
        "    r2 = r2_score(y_test, y_pred)\n",
        "    \n",
        "    results[name] = {\"MSE\": mse, \"R2\": r2}\n",
        "\n",
        "# Display results\n",
        "results_df = pd.DataFrame(results).T\n",
        "print(results_df)"
      ]
    },
    {
      "cell_type": "markdown",
      "metadata": {},
      "source": [
        "Dataset #3 Regressions"
      ]
    },
    {
      "cell_type": "code",
      "execution_count": 11,
      "metadata": {},
      "outputs": [
        {
          "name": "stdout",
          "output_type": "stream",
          "text": [
            "                            MSE        R2\n",
            "Linear Regression  1.134223e-26  1.000000\n",
            "Lasso Regression   2.672808e-02  0.999983\n",
            "Ridge Regression   9.499082e-13  1.000000\n",
            "Elastic Net        2.631424e-02  0.999983\n"
          ]
        }
      ],
      "source": [
        "# Load dataset\n",
        "data4 = pd.read_csv(\"dataset4.csv\")\n",
        "data4 = data4.dropna(axis=1, thresh=len(data4) * 0.5)\n",
        "\n",
        "# Train/test split\n",
        "target = \"ARRIVAL_DELAY\"\n",
        "X = data4.drop(columns=[target]).select_dtypes(include=np.number)\n",
        "y = data4[target]\n",
        "X_train, X_test, y_train, y_test = train_test_split(\n",
        "    X, y, test_size=0.2, random_state=42\n",
        ")\n",
        "\n",
        "# Define models\n",
        "models = {\n",
        "    \"Linear Regression\": LinearRegression(),\n",
        "    \"Lasso Regression\": Lasso(),\n",
        "    \"Ridge Regression\": Ridge(),\n",
        "    \"Elastic Net\": ElasticNet()\n",
        "}\n",
        "\n",
        "# Train and evaluate\n",
        "results = {}\n",
        "\n",
        "for name, model in models.items():\n",
        "    model.fit(X_train, y_train)\n",
        "    y_pred = model.predict(X_test)\n",
        "    \n",
        "    mse = mean_squared_error(y_test, y_pred)\n",
        "    r2 = r2_score(y_test, y_pred)\n",
        "    \n",
        "    results[name] = {\"MSE\": mse, \"R2\": r2}\n",
        "\n",
        "# Display results\n",
        "results_df = pd.DataFrame(results).T\n",
        "print(results_df)"
      ]
    }
  ],
  "metadata": {
    "colab": {
      "toc_visible": false
    },
    "kernelspec": {
      "display_name": "Python 3",
      "name": "python3"
    },
    "language_info": {
      "codemirror_mode": {
        "name": "ipython",
        "version": 3
      },
      "file_extension": ".py",
      "mimetype": "text/x-python",
      "name": "python",
      "nbconvert_exporter": "python",
      "pygments_lexer": "ipython3",
      "version": "3.12.1"
    }
  },
  "nbformat": 4,
  "nbformat_minor": 0
}
