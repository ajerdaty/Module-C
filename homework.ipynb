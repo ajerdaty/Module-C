{
  "cells": [
    {
      "cell_type": "markdown",
      "metadata": {
        "id": "QOUYaLGHhOgH"
      },
      "source": [
        "# DX 601 Week 4 Homework"
      ]
    },
    {
      "cell_type": "markdown",
      "metadata": {
        "id": "_NYSQfpU6p9u"
      },
      "source": [
        "## Introduction\n",
        "\n",
        "In this homework, you will practice linear regression and working with random variables.\n",
        "The data sets of this homework are small, so your code should run in an instant, but you will be able to apply the same techniques to larger data sets.\n",
        "\n",
        "You may find it helpful to refer to these GitHub repositories of Jupyter notebooks for sample code.\n",
        "\n",
        "* https://github.com/bu-cds-omds/dx601-examples\n",
        "* https://github.com/bu-cds-omds/dx602-examples\n",
        "\n",
        "Any calculations demonstrated in code examples or videos may be found in these notebooks, and you are allowed to copy this example code in your homework answers."
      ]
    },
    {
      "cell_type": "markdown",
      "metadata": {
        "id": "GH7dFzB97Wlh"
      },
      "source": [
        "## Instructions\n",
        "\n",
        "You should replace every instance of \"...\" below.\n",
        "These are where you are expected to write code to answer each problem.\n",
        "\n",
        "After some of the problems, there are extra code cells that will test functions that you wrote so you can quickly see how they run on an example.\n",
        "If your code works on these examples, it is more likely to be correct.\n",
        "However, the autograder will test different examples, so working correctly on these examples does not guarantee full credit for the problem.\n",
        "You may change the example inputs to further test your functions on your own.\n",
        "You may also add your own example inputs for problems where we did not provide any.\n",
        "\n",
        "Be sure to run each code block after you edit it to make sure it runs as expected.\n",
        "When you are done, we strongly recommend you run all the code from scratch (Runtime menu -> Restart and Run all) to make sure your current code works for all problems.\n",
        "\n",
        "If your code raises an exception when run from scratch, it will  interfere with the auto-grader process causing you to lose some or all points for this homework.\n",
        "Please ask for help in YellowDig or schedule an appointment with a learning facilitator if you get stuck.\n"
      ]
    },
    {
      "cell_type": "markdown",
      "metadata": {
        "id": "Ze7ev3s6Bu44"
      },
      "source": [
        "## Problems"
      ]
    },
    {
      "cell_type": "markdown",
      "metadata": {
        "id": "vf-VY5qsmS7n"
      },
      "source": [
        "## Shared Imports\n",
        "\n",
        "Do not install or use any additional modules.\n",
        "Installing additional modules may result in an autograder failure resulting in zero points for some or all problems."
      ]
    },
    {
      "cell_type": "code",
      "execution_count": 1,
      "metadata": {
        "id": "RWYk7xICmOGe"
      },
      "outputs": [],
      "source": [
        "import math\n",
        "import random"
      ]
    },
    {
      "cell_type": "code",
      "execution_count": 2,
      "metadata": {
        "id": "RJSJeBTwCIUS"
      },
      "outputs": [],
      "source": [
        "import matplotlib.pyplot as plt\n",
        "import numpy as np\n",
        "import pandas as pd\n",
        "import sklearn.linear_model"
      ]
    },
    {
      "cell_type": "markdown",
      "metadata": {
        "id": "UIRa5mxfB3FG"
      },
      "source": [
        "### Shared Data\n",
        "\n",
        "Many of the problems will use this mango data set.\n",
        "This data set is small and your code should run instantly with it, but you will be able to use the same code and techniques with larger data sets."
      ]
    },
    {
      "cell_type": "code",
      "execution_count": 3,
      "metadata": {
        "id": "PiW8n851CKo8"
      },
      "outputs": [],
      "source": [
        "mango_data = pd.read_csv(\"mango-tiny.tsv\", sep=\"\\t\")"
      ]
    },
    {
      "cell_type": "code",
      "execution_count": 4,
      "metadata": {
        "colab": {
          "base_uri": "https://localhost:8080/",
          "height": 317
        },
        "id": "MrVaT2kv41QQ",
        "outputId": "828770a9-6f46-422e-b9ac-d01f1dbd5fb0"
      },
      "outputs": [
        {
          "data": {
            "text/html": [
              "<div>\n",
              "<style scoped>\n",
              "    .dataframe tbody tr th:only-of-type {\n",
              "        vertical-align: middle;\n",
              "    }\n",
              "\n",
              "    .dataframe tbody tr th {\n",
              "        vertical-align: top;\n",
              "    }\n",
              "\n",
              "    .dataframe thead th {\n",
              "        text-align: right;\n",
              "    }\n",
              "</style>\n",
              "<table border=\"1\" class=\"dataframe\">\n",
              "  <thead>\n",
              "    <tr style=\"text-align: right;\">\n",
              "      <th></th>\n",
              "      <th>green_rating</th>\n",
              "      <th>yellow_rating</th>\n",
              "      <th>softness</th>\n",
              "      <th>wrinkles</th>\n",
              "      <th>estimated_flavor</th>\n",
              "      <th>estimated_sweetness</th>\n",
              "      <th>rated_flavor</th>\n",
              "    </tr>\n",
              "  </thead>\n",
              "  <tbody>\n",
              "    <tr>\n",
              "      <th>0</th>\n",
              "      <td>1</td>\n",
              "      <td>5</td>\n",
              "      <td>4</td>\n",
              "      <td>0</td>\n",
              "      <td>4</td>\n",
              "      <td>4</td>\n",
              "      <td>5</td>\n",
              "    </tr>\n",
              "    <tr>\n",
              "      <th>1</th>\n",
              "      <td>1</td>\n",
              "      <td>5</td>\n",
              "      <td>5</td>\n",
              "      <td>1</td>\n",
              "      <td>5</td>\n",
              "      <td>5</td>\n",
              "      <td>1</td>\n",
              "    </tr>\n",
              "    <tr>\n",
              "      <th>2</th>\n",
              "      <td>2</td>\n",
              "      <td>4</td>\n",
              "      <td>3</td>\n",
              "      <td>1</td>\n",
              "      <td>3</td>\n",
              "      <td>3</td>\n",
              "      <td>3</td>\n",
              "    </tr>\n",
              "    <tr>\n",
              "      <th>3</th>\n",
              "      <td>3</td>\n",
              "      <td>3</td>\n",
              "      <td>2</td>\n",
              "      <td>0</td>\n",
              "      <td>2</td>\n",
              "      <td>1</td>\n",
              "      <td>2</td>\n",
              "    </tr>\n",
              "    <tr>\n",
              "      <th>4</th>\n",
              "      <td>5</td>\n",
              "      <td>1</td>\n",
              "      <td>1</td>\n",
              "      <td>1</td>\n",
              "      <td>1</td>\n",
              "      <td>1</td>\n",
              "      <td>1</td>\n",
              "    </tr>\n",
              "    <tr>\n",
              "      <th>5</th>\n",
              "      <td>4</td>\n",
              "      <td>2</td>\n",
              "      <td>1</td>\n",
              "      <td>1</td>\n",
              "      <td>1</td>\n",
              "      <td>1</td>\n",
              "      <td>1</td>\n",
              "    </tr>\n",
              "    <tr>\n",
              "      <th>6</th>\n",
              "      <td>5</td>\n",
              "      <td>1</td>\n",
              "      <td>1</td>\n",
              "      <td>1</td>\n",
              "      <td>2</td>\n",
              "      <td>1</td>\n",
              "      <td>1</td>\n",
              "    </tr>\n",
              "    <tr>\n",
              "      <th>7</th>\n",
              "      <td>3</td>\n",
              "      <td>3</td>\n",
              "      <td>2</td>\n",
              "      <td>1</td>\n",
              "      <td>2</td>\n",
              "      <td>2</td>\n",
              "      <td>2</td>\n",
              "    </tr>\n",
              "  </tbody>\n",
              "</table>\n",
              "</div>"
            ],
            "text/plain": [
              "   green_rating  yellow_rating  softness  wrinkles  estimated_flavor  \\\n",
              "0             1              5         4         0                 4   \n",
              "1             1              5         5         1                 5   \n",
              "2             2              4         3         1                 3   \n",
              "3             3              3         2         0                 2   \n",
              "4             5              1         1         1                 1   \n",
              "5             4              2         1         1                 1   \n",
              "6             5              1         1         1                 2   \n",
              "7             3              3         2         1                 2   \n",
              "\n",
              "   estimated_sweetness  rated_flavor  \n",
              "0                    4             5  \n",
              "1                    5             1  \n",
              "2                    3             3  \n",
              "3                    1             2  \n",
              "4                    1             1  \n",
              "5                    1             1  \n",
              "6                    1             1  \n",
              "7                    2             2  "
            ]
          },
          "execution_count": 4,
          "metadata": {},
          "output_type": "execute_result"
        }
      ],
      "source": [
        "mango_data"
      ]
    },
    {
      "cell_type": "markdown",
      "metadata": {
        "id": "_4ZYOT4DB0L3"
      },
      "source": [
        "### Problem 1 (3 points)\n",
        "\n",
        "Build a linear regression for the mango rated flavor column using just the estimated flavor column.\n",
        "Set `p1` to the prediction of this model when the estimated flavor value is 3."
      ]
    },
    {
      "cell_type": "code",
      "execution_count": 33,
      "metadata": {
        "id": "nhdirreg1pyy"
      },
      "outputs": [],
      "source": [
        "# YOUR CHANGES HERE\n",
        "LR1 = sklearn.linear_model.LinearRegression().fit(np.array(mango_data[\"estimated_flavor\"]).reshape(-1, 1), np.array(mango_data[\"rated_flavor\"]).reshape(-1, 1))\n",
        "p1 = LR1.predict([[3]])"
      ]
    },
    {
      "cell_type": "code",
      "execution_count": 32,
      "metadata": {},
      "outputs": [
        {
          "data": {
            "text/plain": [
              "array([[2.21428571]])"
            ]
          },
          "execution_count": 32,
          "metadata": {},
          "output_type": "execute_result"
        }
      ],
      "source": [
        "p1"
      ]
    },
    {
      "cell_type": "markdown",
      "metadata": {
        "id": "Poy2o9ST1EvL"
      },
      "source": [
        "### Problem 2 (3 points)\n",
        "\n",
        "Build a linear regression for the mango rated flavor column using just the yellow rating column.\n",
        "Set `p2` to the additive constant in the linear equation.\n",
        "\n",
        "You can look at the videos or code examples to see how to get the additive constant depending how you built the model, or evaluate your model with all zero inputs."
      ]
    },
    {
      "cell_type": "code",
      "execution_count": 93,
      "metadata": {
        "id": "OpJpSZXW2RDO"
      },
      "outputs": [],
      "source": [
        "# YOUR CHANGES HERE\n",
        "LR2 = sklearn.linear_model.LinearRegression().fit(np.array(mango_data[\"yellow_rating\"]).reshape(-1, 1), np.array(mango_data[\"rated_flavor\"]).reshape(-1, 1))\n",
        "p2 = LR2.intercept_[0]"
      ]
    },
    {
      "cell_type": "code",
      "execution_count": 94,
      "metadata": {},
      "outputs": [
        {
          "data": {
            "text/plain": [
              "np.float64(0.33333333333333304)"
            ]
          },
          "execution_count": 94,
          "metadata": {},
          "output_type": "execute_result"
        }
      ],
      "source": [
        "p2"
      ]
    },
    {
      "cell_type": "markdown",
      "metadata": {
        "id": "g06sNjVm2R_J"
      },
      "source": [
        "### Problem 3 (3 points)\n",
        "\n",
        "Build a linear regression for the mango rated flavor column using just the yellow rating column.\n",
        "(You can reuse the regression built for problem 2.)\n",
        "Set `p3` to the coefficient of the yellow rating value in the linear equation.\n",
        "\n",
        "You can look at the videos or code examples to see how to get coefficient, or you may be able to deduce it with a couple evaluations of the model (e.g. $f(1) - f(0)$)."
      ]
    },
    {
      "cell_type": "code",
      "execution_count": 91,
      "metadata": {
        "id": "vH-PYxIl2zUn"
      },
      "outputs": [],
      "source": [
        "# YOUR CHANGES HERE\n",
        "LR3 = sklearn.linear_model.LinearRegression().fit(np.array(mango_data[\"yellow_rating\"]).reshape(-1, 1), np.array(mango_data[\"rated_flavor\"]).reshape(-1, 1))\n",
        "p3 = LR3.coef_[0][0]"
      ]
    },
    {
      "cell_type": "code",
      "execution_count": 92,
      "metadata": {},
      "outputs": [
        {
          "data": {
            "text/plain": [
              "np.float64(0.5555555555555557)"
            ]
          },
          "execution_count": 92,
          "metadata": {},
          "output_type": "execute_result"
        }
      ],
      "source": [
        "p3"
      ]
    },
    {
      "cell_type": "markdown",
      "metadata": {
        "id": "QKUyLpq23Jeg"
      },
      "source": [
        "### Problem 4 (3 points)\n",
        "\n",
        "Set `p4` to the mean row of the mango data set.\n",
        "That is, `p4` should be a single row of data with the same columns, where each value is the mean of the corresponding column in the mango data set."
      ]
    },
    {
      "cell_type": "code",
      "execution_count": 39,
      "metadata": {
        "id": "aNiGYYTg3sbv"
      },
      "outputs": [],
      "source": [
        "# YOUR CHANGES HERE\n",
        "\n",
        "p4 = mango_data.mean()"
      ]
    },
    {
      "cell_type": "code",
      "execution_count": 40,
      "metadata": {},
      "outputs": [
        {
          "data": {
            "text/plain": [
              "green_rating           3.000\n",
              "yellow_rating          3.000\n",
              "softness               2.375\n",
              "wrinkles               0.750\n",
              "estimated_flavor       2.500\n",
              "estimated_sweetness    2.250\n",
              "rated_flavor           2.000\n",
              "dtype: float64"
            ]
          },
          "execution_count": 40,
          "metadata": {},
          "output_type": "execute_result"
        }
      ],
      "source": [
        "p4"
      ]
    },
    {
      "cell_type": "markdown",
      "metadata": {
        "id": "zb6e3gQs4cgL"
      },
      "source": [
        "### Problem 5 (3 points)\n",
        "\n",
        "The variable `q5` contains the rated flavor column of the mango data set, so each row of `q5` represents the rated flavor of one sample.\n",
        "Set `p5` to be a Python dictionary mapping rated flavors to their sample probabilities using `q5`.\n",
        "\n",
        "`p5` should be a dictionary with integer keys and probability values."
      ]
    },
    {
      "cell_type": "code",
      "execution_count": 42,
      "metadata": {
        "colab": {
          "base_uri": "https://localhost:8080/",
          "height": 331
        },
        "id": "AlXtpZx74ij7",
        "outputId": "29b512c3-d37c-4677-e0e8-e71a502590ee"
      },
      "outputs": [
        {
          "data": {
            "text/plain": [
              "0    5\n",
              "1    1\n",
              "2    3\n",
              "3    2\n",
              "4    1\n",
              "5    1\n",
              "6    1\n",
              "7    2\n",
              "Name: rated_flavor, dtype: int64"
            ]
          },
          "execution_count": 42,
          "metadata": {},
          "output_type": "execute_result"
        }
      ],
      "source": [
        "q5 = mango_data[\"rated_flavor\"]\n",
        "q5"
      ]
    },
    {
      "cell_type": "code",
      "execution_count": 58,
      "metadata": {
        "id": "qLQyPsen5ExP"
      },
      "outputs": [],
      "source": [
        "# YOUR CHANGES HERE\n",
        "counts = q5.value_counts()\n",
        "p5 = {x : (counts[x] / len(q5)) for x in set(q5)}"
      ]
    },
    {
      "cell_type": "code",
      "execution_count": 59,
      "metadata": {},
      "outputs": [
        {
          "data": {
            "text/plain": [
              "{1: np.float64(0.5),\n",
              " 2: np.float64(0.25),\n",
              " 3: np.float64(0.125),\n",
              " 5: np.float64(0.125)}"
            ]
          },
          "execution_count": 59,
          "metadata": {},
          "output_type": "execute_result"
        }
      ],
      "source": [
        "p5"
      ]
    },
    {
      "cell_type": "code",
      "execution_count": null,
      "metadata": {},
      "outputs": [],
      "source": [
        "# the sum of probabilities should add up to one\n",
        "sum(p5.values())"
      ]
    },
    {
      "cell_type": "markdown",
      "metadata": {
        "id": "4Sona6mNZDRD"
      },
      "source": [
        "### Problem 6 (4 points)\n",
        "\n",
        "The variable `q6` below has data for a probability distribution.\n",
        "The keys of `q6` are integer ratings from 1 to 5 and the values are the probabilities of each rating.\n",
        "Set `p6` to the average rating based on `q6`."
      ]
    },
    {
      "cell_type": "code",
      "execution_count": 61,
      "metadata": {
        "id": "asVzNxaQZT67"
      },
      "outputs": [],
      "source": [
        "q6 = {1 : 0.11, 2: 0.18, 3: 0.35, 4: 0.24, 5: 0.12}"
      ]
    },
    {
      "cell_type": "code",
      "execution_count": 65,
      "metadata": {
        "id": "8Ply7kvsZ9AB"
      },
      "outputs": [],
      "source": [
        "# YOUR CHANGES HERE\n",
        "p6 = sum([x * q6[x] for x in q6.keys()])"
      ]
    },
    {
      "cell_type": "code",
      "execution_count": 66,
      "metadata": {},
      "outputs": [
        {
          "data": {
            "text/plain": [
              "3.0799999999999996"
            ]
          },
          "execution_count": 66,
          "metadata": {},
          "output_type": "execute_result"
        }
      ],
      "source": [
        "p6"
      ]
    },
    {
      "cell_type": "markdown",
      "metadata": {
        "id": "2sm6qPi7aKWO"
      },
      "source": [
        "### Problem 7 (4 points)\n",
        "\n",
        "The variable `q7` below has data for a probability distribution.\n",
        "The keys of `q7` are supposed to be ratings from 1 to 5 and the values are supposed to be the probabilities of each rating.\n",
        "However, the data for the rating of 5 is missing.\n",
        "Set `p7` to be the probability of rating 5 assuming that the probabilities for 1 to 4 are correct."
      ]
    },
    {
      "cell_type": "code",
      "execution_count": 68,
      "metadata": {
        "id": "6sLXO5ApaknR"
      },
      "outputs": [],
      "source": [
        "q7 = {1: 0.32, 2: 0.22, 3: 0.12, 4: 0.1}"
      ]
    },
    {
      "cell_type": "code",
      "execution_count": 69,
      "metadata": {
        "id": "0R8DkzA7bEJQ"
      },
      "outputs": [],
      "source": [
        "# YOUR CHANGES HERE\n",
        "\n",
        "p7 = 1 - sum(q7.values())"
      ]
    },
    {
      "cell_type": "code",
      "execution_count": 70,
      "metadata": {},
      "outputs": [
        {
          "data": {
            "text/plain": [
              "0.24"
            ]
          },
          "execution_count": 70,
          "metadata": {},
          "output_type": "execute_result"
        }
      ],
      "source": [
        "p7"
      ]
    },
    {
      "cell_type": "markdown",
      "metadata": {
        "id": "gb_7kP0gbL93"
      },
      "source": [
        "### Problem 8 (4 points)\n",
        "\n",
        "The variable `q8` below has data for a probability distribution.\n",
        "The keys of `q8` are integer ratings from 1 to 5 and the values are the probabilities of each rating.\n",
        "Set `p8` to the rating that has the highest probability according to `q8`."
      ]
    },
    {
      "cell_type": "code",
      "execution_count": 71,
      "metadata": {
        "id": "b6qR1WSFcZLU"
      },
      "outputs": [],
      "source": [
        "q8 = {1: 0.11, 2: 0.22, 3: 0.38, 4: 0.01, 5: 0.28}"
      ]
    },
    {
      "cell_type": "code",
      "execution_count": 73,
      "metadata": {
        "id": "ZO3bAmOecnDl"
      },
      "outputs": [],
      "source": [
        "# YOUR CHANGES HERE\n",
        "keys = list(q8.keys())\n",
        "values = list(q8.values())\n",
        "p8 = keys[values.index(max(values))]"
      ]
    },
    {
      "cell_type": "code",
      "execution_count": 74,
      "metadata": {},
      "outputs": [
        {
          "data": {
            "text/plain": [
              "3"
            ]
          },
          "execution_count": 74,
          "metadata": {},
          "output_type": "execute_result"
        }
      ],
      "source": [
        "p8"
      ]
    },
    {
      "cell_type": "markdown",
      "metadata": {
        "id": "8Txa1RCXctp8"
      },
      "source": [
        "### Problem 9 (4 points)\n",
        "\n",
        "Large language models work by repeatedly sampling tokens, small chunks of text, based on the preceding tokens in the text.\n",
        "This works by analyzing the preceding tokens, estimating a probability distribution over choices for the next token, and then sampling that probability distribution to pick a token.\n",
        "Perplexity is one measure used to evaluate the performance of large language models.\n",
        "\n",
        "The variable `q9` contains a probability distribution of tokens.\n",
        "Set `p9` to be the perplexity of `q9`."
      ]
    },
    {
      "cell_type": "code",
      "execution_count": 97,
      "metadata": {
        "colab": {
          "base_uri": "https://localhost:8080/"
        },
        "id": "fPhcMKnbdptQ",
        "outputId": "427ef7e1-2c8c-4bb3-c979-97247b6f3c3d"
      },
      "outputs": [
        {
          "data": {
            "text/plain": [
              "{'Honey': 0.06666666666666667,\n",
              " 'Octopuses': 0.06666666666666667,\n",
              " 'Sharks': 0.06666666666666667,\n",
              " 'Bananas': 0.06666666666666667,\n",
              " 'A ': 0.2,\n",
              " 'Wombat': 0.06666666666666667,\n",
              " 'Bees': 0.06666666666666667,\n",
              " 'The ': 0.06666666666666667,\n",
              " \"There's\": 0.06666666666666667,\n",
              " 'Cleopatra': 0.06666666666666667,\n",
              " 'Venus ': 0.06666666666666667,\n",
              " 'Hot ': 0.06666666666666667,\n",
              " 'Humans ': 0.06666666666666667}"
            ]
          },
          "execution_count": 97,
          "metadata": {},
          "output_type": "execute_result"
        }
      ],
      "source": [
        "# First tokens from repeatedly prompting ChatGPT with\n",
        "# \"Tell me something interesting in 10 words or less.\"\n",
        "q9_raw = [\n",
        "    \"Honey\",\n",
        "    \"Octopuses\",\n",
        "    \"Sharks\",\n",
        "    \"Bananas\",\n",
        "    \"A \",\n",
        "    \"Wombat\",\n",
        "    \"A \",\n",
        "    \"Bees\",\n",
        "    \"The \",\n",
        "    \"There's\",\n",
        "    \"Cleopatra\",\n",
        "    \"Venus \",\n",
        "    \"Hot \",\n",
        "    \"Humans \",\n",
        "    \"A \"]\n",
        "\n",
        "q9 = {}\n",
        "for t in q9_raw:\n",
        "    q9[t] = q9.get(t, 0) + 1 / len(q9_raw)\n",
        "\n",
        "q9"
      ]
    },
    {
      "cell_type": "code",
      "execution_count": 105,
      "metadata": {
        "id": "O-UvSyhKgofV"
      },
      "outputs": [],
      "source": [
        "# YOUR CHANGES HERE\n",
        "\n",
        "p9 = 2 ** (-1 * sum([x * math.log(x, 2) for x in q9.values()]))"
      ]
    },
    {
      "cell_type": "code",
      "execution_count": 106,
      "metadata": {},
      "outputs": [
        {
          "data": {
            "text/plain": [
              "12.041123426403464"
            ]
          },
          "execution_count": 106,
          "metadata": {},
          "output_type": "execute_result"
        }
      ],
      "source": [
        "p9"
      ]
    },
    {
      "cell_type": "markdown",
      "metadata": {
        "id": "5HznIgaTglgf"
      },
      "source": [
        "### Problem 10 (4 points)\n",
        "\n",
        "The variable `q10` has a probability where the keys are different events and the values are the probabilities of those events.\n",
        "Set `p10` to be the entropy of that probability distribution using base 2 for the logarithm."
      ]
    },
    {
      "cell_type": "code",
      "execution_count": 100,
      "metadata": {
        "id": "557NUdvohPt0"
      },
      "outputs": [],
      "source": [
        "q10 = {\n",
        "    \"robot uprising\": 0.2,\n",
        "    \"politician uprising\": 0.1,\n",
        "    \"it rains but only on Boston\": 0.3,\n",
        "    \"the class votes for ghost peppers\": 0.01,\n",
        "    \"a pretty normal day\": 0.39,\n",
        "}"
      ]
    },
    {
      "cell_type": "code",
      "execution_count": 103,
      "metadata": {
        "id": "8BjrglyMiE3f"
      },
      "outputs": [],
      "source": [
        "# YOUR CHANGES HERE\n",
        "\n",
        "p10 = -1 * sum([x * math.log(x, 2) for x in q10.values()])"
      ]
    },
    {
      "cell_type": "code",
      "execution_count": 104,
      "metadata": {},
      "outputs": [
        {
          "data": {
            "text/plain": [
              "1.9139037172696836"
            ]
          },
          "execution_count": 104,
          "metadata": {},
          "output_type": "execute_result"
        }
      ],
      "source": [
        "p10"
      ]
    },
    {
      "cell_type": "markdown",
      "metadata": {
        "id": "fs7pnCyl20n3"
      },
      "source": [
        "### Problem 11 (4 points)\n",
        "\n",
        "Build a linear regression for the mango rated flavor column using all the other columns as inputs.\n",
        "Set `p11` to the column with the highest positive coefficient.\n",
        "(`p11` should be a string with the name of the column.)"
      ]
    },
    {
      "cell_type": "code",
      "execution_count": 107,
      "metadata": {
        "colab": {
          "base_uri": "https://localhost:8080/",
          "height": 297
        },
        "id": "ZzYUeyVCic96",
        "outputId": "16ac75e7-d9b3-40d4-8fbd-7e954b939d11"
      },
      "outputs": [
        {
          "data": {
            "text/html": [
              "<div>\n",
              "<style scoped>\n",
              "    .dataframe tbody tr th:only-of-type {\n",
              "        vertical-align: middle;\n",
              "    }\n",
              "\n",
              "    .dataframe tbody tr th {\n",
              "        vertical-align: top;\n",
              "    }\n",
              "\n",
              "    .dataframe thead th {\n",
              "        text-align: right;\n",
              "    }\n",
              "</style>\n",
              "<table border=\"1\" class=\"dataframe\">\n",
              "  <thead>\n",
              "    <tr style=\"text-align: right;\">\n",
              "      <th></th>\n",
              "      <th>green_rating</th>\n",
              "      <th>yellow_rating</th>\n",
              "      <th>softness</th>\n",
              "      <th>wrinkles</th>\n",
              "      <th>estimated_flavor</th>\n",
              "      <th>estimated_sweetness</th>\n",
              "    </tr>\n",
              "  </thead>\n",
              "  <tbody>\n",
              "    <tr>\n",
              "      <th>0</th>\n",
              "      <td>1</td>\n",
              "      <td>5</td>\n",
              "      <td>4</td>\n",
              "      <td>0</td>\n",
              "      <td>4</td>\n",
              "      <td>4</td>\n",
              "    </tr>\n",
              "    <tr>\n",
              "      <th>1</th>\n",
              "      <td>1</td>\n",
              "      <td>5</td>\n",
              "      <td>5</td>\n",
              "      <td>1</td>\n",
              "      <td>5</td>\n",
              "      <td>5</td>\n",
              "    </tr>\n",
              "    <tr>\n",
              "      <th>2</th>\n",
              "      <td>2</td>\n",
              "      <td>4</td>\n",
              "      <td>3</td>\n",
              "      <td>1</td>\n",
              "      <td>3</td>\n",
              "      <td>3</td>\n",
              "    </tr>\n",
              "    <tr>\n",
              "      <th>3</th>\n",
              "      <td>3</td>\n",
              "      <td>3</td>\n",
              "      <td>2</td>\n",
              "      <td>0</td>\n",
              "      <td>2</td>\n",
              "      <td>1</td>\n",
              "    </tr>\n",
              "    <tr>\n",
              "      <th>4</th>\n",
              "      <td>5</td>\n",
              "      <td>1</td>\n",
              "      <td>1</td>\n",
              "      <td>1</td>\n",
              "      <td>1</td>\n",
              "      <td>1</td>\n",
              "    </tr>\n",
              "    <tr>\n",
              "      <th>5</th>\n",
              "      <td>4</td>\n",
              "      <td>2</td>\n",
              "      <td>1</td>\n",
              "      <td>1</td>\n",
              "      <td>1</td>\n",
              "      <td>1</td>\n",
              "    </tr>\n",
              "    <tr>\n",
              "      <th>6</th>\n",
              "      <td>5</td>\n",
              "      <td>1</td>\n",
              "      <td>1</td>\n",
              "      <td>1</td>\n",
              "      <td>2</td>\n",
              "      <td>1</td>\n",
              "    </tr>\n",
              "    <tr>\n",
              "      <th>7</th>\n",
              "      <td>3</td>\n",
              "      <td>3</td>\n",
              "      <td>2</td>\n",
              "      <td>1</td>\n",
              "      <td>2</td>\n",
              "      <td>2</td>\n",
              "    </tr>\n",
              "  </tbody>\n",
              "</table>\n",
              "</div>"
            ],
            "text/plain": [
              "   green_rating  yellow_rating  softness  wrinkles  estimated_flavor  \\\n",
              "0             1              5         4         0                 4   \n",
              "1             1              5         5         1                 5   \n",
              "2             2              4         3         1                 3   \n",
              "3             3              3         2         0                 2   \n",
              "4             5              1         1         1                 1   \n",
              "5             4              2         1         1                 1   \n",
              "6             5              1         1         1                 2   \n",
              "7             3              3         2         1                 2   \n",
              "\n",
              "   estimated_sweetness  \n",
              "0                    4  \n",
              "1                    5  \n",
              "2                    3  \n",
              "3                    1  \n",
              "4                    1  \n",
              "5                    1  \n",
              "6                    1  \n",
              "7                    2  "
            ]
          },
          "execution_count": 107,
          "metadata": {},
          "output_type": "execute_result"
        }
      ],
      "source": [
        "mango_inputs = mango_data.drop(\"rated_flavor\", axis=1)\n",
        "mango_inputs"
      ]
    },
    {
      "cell_type": "code",
      "execution_count": 128,
      "metadata": {
        "id": "1gp6Tcbh3IZT"
      },
      "outputs": [],
      "source": [
        "# YOUR CHANGES HERE\n",
        "LR11 = sklearn.linear_model.LinearRegression().fit(np.array(mango_inputs), np.array(mango_data[\"rated_flavor\"]).reshape(-1, 1))\n",
        "p11 = mango_inputs.columns[list(LR11.coef_[0]).index(max(LR11.coef_[0]))]"
      ]
    },
    {
      "cell_type": "code",
      "execution_count": 129,
      "metadata": {},
      "outputs": [
        {
          "data": {
            "text/plain": [
              "'estimated_sweetness'"
            ]
          },
          "execution_count": 129,
          "metadata": {},
          "output_type": "execute_result"
        }
      ],
      "source": [
        "p11"
      ]
    },
    {
      "cell_type": "markdown",
      "metadata": {
        "id": "EO8OiHX231oD"
      },
      "source": [
        "### Problem 12 (4 points)\n",
        "\n",
        "Build a linear regression for the mango rated flavor column using all the other columns as inputs.\n",
        "(You can reuse the regression built for problem 11.)\n",
        "Set `p12` to be the output of this model for the mean row of the data set (see problem 4)."
      ]
    },
    {
      "cell_type": "code",
      "execution_count": 133,
      "metadata": {
        "id": "AfQA658F4QXn"
      },
      "outputs": [],
      "source": [
        "# YOUR CHANGES HERE\n",
        "LR12 = sklearn.linear_model.LinearRegression().fit(np.array(mango_inputs), np.array(mango_data[\"rated_flavor\"]).reshape(-1, 1))\n",
        "p12 = LR12.predict([mango_inputs.mean()])[0][0]"
      ]
    },
    {
      "cell_type": "code",
      "execution_count": 134,
      "metadata": {},
      "outputs": [
        {
          "data": {
            "text/plain": [
              "np.float64(2.0)"
            ]
          },
          "execution_count": 134,
          "metadata": {},
          "output_type": "execute_result"
        }
      ],
      "source": [
        "p12"
      ]
    },
    {
      "cell_type": "markdown",
      "metadata": {
        "id": "kBKzQOSRimNE"
      },
      "source": [
        "### Problem 13 (4 points)\n",
        "\n",
        "The variable `q13` has a list of sample values.\n",
        "Set `p13` to the highest sample probability of one of those sample values.\n",
        "That is, if you computed the sample probabilities from `q13`, what would the highest sample probability be?\n"
      ]
    },
    {
      "cell_type": "code",
      "execution_count": 135,
      "metadata": {
        "id": "Caco-UVYjWAe"
      },
      "outputs": [],
      "source": [
        "# words chosen by repeatedly prompting ChatGPT with\n",
        "# \"Pick a common three letter word.\"\n",
        "q13 = [\n",
        "    \"Cat\",\n",
        "    \"Sun\",\n",
        "    \"Box\",\n",
        "    \"Dog\",\n",
        "    \"Car\",\n",
        "    \"Sky\",\n",
        "    \"Dog\",\n",
        "    \"Pen\",\n",
        "    \"Hat\",\n",
        "    \"Air\",\n",
        "    \"Fan\",\n",
        "    \"Run\",\n",
        "    \"Tea\",\n",
        "    \"Box\",\n",
        "    \"Bus\",\n",
        "    \"Joy\",\n",
        "    \"Key\",\n",
        "    \"Bed\",\n",
        "    \"Dog\",\n",
        "    \"Hat\"\n",
        "]"
      ]
    },
    {
      "cell_type": "code",
      "execution_count": 137,
      "metadata": {
        "id": "hMx4gfZpkvR2"
      },
      "outputs": [],
      "source": [
        "# YOUR CHANGES HERE\n",
        "prob_dist = {}\n",
        "for t in q13:\n",
        "    prob_dist[t] = prob_dist.get(t, 0) + 1 / len(q13)\n",
        "p13 = max(prob_dist.values())"
      ]
    },
    {
      "cell_type": "code",
      "execution_count": 138,
      "metadata": {},
      "outputs": [
        {
          "data": {
            "text/plain": [
              "0.15000000000000002"
            ]
          },
          "execution_count": 138,
          "metadata": {},
          "output_type": "execute_result"
        }
      ],
      "source": [
        "p13"
      ]
    },
    {
      "cell_type": "markdown",
      "metadata": {
        "id": "kaLaPYxpk0Vz"
      },
      "source": [
        "### Problem 14 (4 points)\n",
        "\n",
        "Write a function `p14` that returns the string \"You win!\" 1% of the time and \"Sorry\" the rest of the time."
      ]
    },
    {
      "cell_type": "code",
      "execution_count": 141,
      "metadata": {
        "id": "M2wYKVq1k9mU"
      },
      "outputs": [],
      "source": [
        "# YOUR CHANGES HERE\n",
        "\n",
        "def p14():\n",
        "    if random.choice(range(100)) == 0:\n",
        "        return \"You win!\"\n",
        "    else:\n",
        "        return \"Sorry\""
      ]
    },
    {
      "cell_type": "code",
      "execution_count": 155,
      "metadata": {},
      "outputs": [
        {
          "data": {
            "text/plain": [
              "['Sorry',\n",
              " 'You win!',\n",
              " 'Sorry',\n",
              " 'Sorry',\n",
              " 'Sorry',\n",
              " 'Sorry',\n",
              " 'Sorry',\n",
              " 'Sorry',\n",
              " 'Sorry',\n",
              " 'Sorry']"
            ]
          },
          "execution_count": 155,
          "metadata": {},
          "output_type": "execute_result"
        }
      ],
      "source": [
        "[p14() for _ in range(10)]"
      ]
    },
    {
      "cell_type": "markdown",
      "metadata": {
        "id": "xCr3e8q2k_Kw"
      },
      "source": [
        "### Problem 15 (4 points)\n",
        "\n",
        "Given the data set in `q15`, write a function `p15` to return bootstrap samples.\n",
        "\n",
        "A bootstrap sample has the same number of samples as the source data set, but each sample in the bootstrap sample is chosen independently at random from the source data set."
      ]
    },
    {
      "cell_type": "code",
      "execution_count": 176,
      "metadata": {
        "id": "rA07S71_lLM4"
      },
      "outputs": [],
      "source": [
        "# DO NOT CHANGE\n",
        "\n",
        "q15 = [0.44526842059338856, 0.6415977178857716, 0.9143457208633793, 0.040810075507440646, 0.6910270489830476, 0.10835956174140715, 0.5831891761086495, 0.24071332159738457, 0.2276135670886662, 0.0187843711518334]"
      ]
    },
    {
      "cell_type": "code",
      "execution_count": 180,
      "metadata": {
        "id": "K1jxw2uFlZQn"
      },
      "outputs": [],
      "source": [
        "# YOUR CHANGES HERE\n",
        "\n",
        "def p15():\n",
        "    return [random.choice(q15) for _ in range(len(q15))]"
      ]
    },
    {
      "cell_type": "code",
      "execution_count": 181,
      "metadata": {},
      "outputs": [
        {
          "data": {
            "text/plain": [
              "[[0.040810075507440646,\n",
              "  0.24071332159738457,\n",
              "  0.5831891761086495,\n",
              "  0.5831891761086495,\n",
              "  0.040810075507440646,\n",
              "  0.6415977178857716,\n",
              "  0.24071332159738457,\n",
              "  0.2276135670886662,\n",
              "  0.44526842059338856,\n",
              "  0.10835956174140715],\n",
              " [0.44526842059338856,\n",
              "  0.9143457208633793,\n",
              "  0.6415977178857716,\n",
              "  0.44526842059338856,\n",
              "  0.040810075507440646,\n",
              "  0.5831891761086495,\n",
              "  0.040810075507440646,\n",
              "  0.5831891761086495,\n",
              "  0.0187843711518334,\n",
              "  0.6910270489830476],\n",
              " [0.2276135670886662,\n",
              "  0.6910270489830476,\n",
              "  0.24071332159738457,\n",
              "  0.5831891761086495,\n",
              "  0.5831891761086495,\n",
              "  0.9143457208633793,\n",
              "  0.2276135670886662,\n",
              "  0.6415977178857716,\n",
              "  0.6415977178857716,\n",
              "  0.2276135670886662],\n",
              " [0.10835956174140715,\n",
              "  0.9143457208633793,\n",
              "  0.44526842059338856,\n",
              "  0.5831891761086495,\n",
              "  0.10835956174140715,\n",
              "  0.0187843711518334,\n",
              "  0.040810075507440646,\n",
              "  0.24071332159738457,\n",
              "  0.10835956174140715,\n",
              "  0.5831891761086495],\n",
              " [0.9143457208633793,\n",
              "  0.2276135670886662,\n",
              "  0.10835956174140715,\n",
              "  0.040810075507440646,\n",
              "  0.44526842059338856,\n",
              "  0.6415977178857716,\n",
              "  0.6910270489830476,\n",
              "  0.44526842059338856,\n",
              "  0.040810075507440646,\n",
              "  0.040810075507440646],\n",
              " [0.6910270489830476,\n",
              "  0.24071332159738457,\n",
              "  0.9143457208633793,\n",
              "  0.040810075507440646,\n",
              "  0.44526842059338856,\n",
              "  0.040810075507440646,\n",
              "  0.0187843711518334,\n",
              "  0.0187843711518334,\n",
              "  0.6910270489830476,\n",
              "  0.5831891761086495],\n",
              " [0.040810075507440646,\n",
              "  0.9143457208633793,\n",
              "  0.0187843711518334,\n",
              "  0.9143457208633793,\n",
              "  0.5831891761086495,\n",
              "  0.24071332159738457,\n",
              "  0.6910270489830476,\n",
              "  0.6415977178857716,\n",
              "  0.10835956174140715,\n",
              "  0.24071332159738457],\n",
              " [0.24071332159738457,\n",
              "  0.10835956174140715,\n",
              "  0.44526842059338856,\n",
              "  0.6415977178857716,\n",
              "  0.6910270489830476,\n",
              "  0.10835956174140715,\n",
              "  0.6415977178857716,\n",
              "  0.0187843711518334,\n",
              "  0.24071332159738457,\n",
              "  0.6910270489830476],\n",
              " [0.0187843711518334,\n",
              "  0.9143457208633793,\n",
              "  0.10835956174140715,\n",
              "  0.24071332159738457,\n",
              "  0.6415977178857716,\n",
              "  0.2276135670886662,\n",
              "  0.040810075507440646,\n",
              "  0.6910270489830476,\n",
              "  0.10835956174140715,\n",
              "  0.0187843711518334],\n",
              " [0.040810075507440646,\n",
              "  0.040810075507440646,\n",
              "  0.44526842059338856,\n",
              "  0.5831891761086495,\n",
              "  0.9143457208633793,\n",
              "  0.6910270489830476,\n",
              "  0.040810075507440646,\n",
              "  0.040810075507440646,\n",
              "  0.040810075507440646,\n",
              "  0.0187843711518334]]"
            ]
          },
          "execution_count": 181,
          "metadata": {},
          "output_type": "execute_result"
        }
      ],
      "source": [
        "[p15() for _ in range(10)]"
      ]
    },
    {
      "cell_type": "markdown",
      "metadata": {
        "id": "I7fYOQ7Hlb06"
      },
      "source": [
        "### Problem 16 (4 points)\n",
        "\n",
        "Write a function `p16` that returns a random row of `q16a` with 70% probability and a random row of `q16b` with 30% probability."
      ]
    },
    {
      "cell_type": "code",
      "execution_count": 163,
      "metadata": {
        "id": "69dpLZv9lwXG"
      },
      "outputs": [],
      "source": [
        "# DO NOT CHANGE\n",
        "\n",
        "q16a = [1, 3, 5, 7, 11, 13, 17, 19]"
      ]
    },
    {
      "cell_type": "code",
      "execution_count": 164,
      "metadata": {
        "id": "hDEHh_rrlv5T"
      },
      "outputs": [],
      "source": [
        "# DO NOT CHANGE\n",
        "\n",
        "q16b = [2, 4, 8, 16, 32, 64, 128, 256, 512, 1024]"
      ]
    },
    {
      "cell_type": "code",
      "execution_count": 165,
      "metadata": {
        "id": "qETAzrs8l6iU"
      },
      "outputs": [],
      "source": [
        "# YOUR CHANGES HERE\n",
        "\n",
        "def p16():\n",
        "    if random.choice(range(10)) < 7:\n",
        "        return random.choice(q16a)\n",
        "    else:\n",
        "        return random.choice(q16b)"
      ]
    },
    {
      "cell_type": "code",
      "execution_count": 172,
      "metadata": {},
      "outputs": [
        {
          "data": {
            "text/plain": [
              "[32, 19, 512, 1, 512, 3, 512, 1, 4, 7]"
            ]
          },
          "execution_count": 172,
          "metadata": {},
          "output_type": "execute_result"
        }
      ],
      "source": [
        "[p16() for _ in range(10)]"
      ]
    },
    {
      "cell_type": "markdown",
      "metadata": {
        "id": "6wqDZ1uFl-rx"
      },
      "source": [
        "### Problem 17 (4 points)\n",
        "\n",
        "Read the following function `q17`.\n",
        "Set `p17` to be the probability that it returns 5.\n"
      ]
    },
    {
      "cell_type": "code",
      "execution_count": null,
      "metadata": {
        "id": "NAeozvOemIsq"
      },
      "outputs": [],
      "source": [
        "# DO NOT CHANGE\n",
        "\n",
        "def q17():\n",
        "    if random.random() < 0.3:\n",
        "        return 3\n",
        "    else:\n",
        "        return 5"
      ]
    },
    {
      "cell_type": "code",
      "execution_count": null,
      "metadata": {
        "id": "r6b4X09smlcz"
      },
      "outputs": [],
      "source": [
        "# YOUR CHANGES HERE\n",
        "\n",
        "p17 = 0.7"
      ]
    },
    {
      "cell_type": "code",
      "execution_count": null,
      "metadata": {},
      "outputs": [],
      "source": [
        "p17"
      ]
    },
    {
      "cell_type": "markdown",
      "metadata": {
        "id": "wO5h_FDkmnaC"
      },
      "source": [
        "### Problem 18 (4 points)\n",
        "\n",
        "Read the following function `q18`.\n",
        "Set `p18` to the variance of the output of `q18`. The function `q18` only returns one value, but can be called repeatedly yielding a distribution."
      ]
    },
    {
      "cell_type": "code",
      "execution_count": 173,
      "metadata": {
        "id": "Z1gnKPOBmvSl"
      },
      "outputs": [],
      "source": [
        "# DO NOT CHANGE\n",
        "\n",
        "q18_raw = [\n",
        "    1,\n",
        "    1,\n",
        "    1,\n",
        "    2,\n",
        "    2,\n",
        "    2,\n",
        "    3,\n",
        "    3,\n",
        "    3,\n",
        "    3,\n",
        "    3,\n",
        "    3,\n",
        "    4,\n",
        "    5,\n",
        "    5,\n",
        "    5,\n",
        "    6,\n",
        "    6,\n",
        "    6,\n",
        "    6\n",
        "]"
      ]
    },
    {
      "cell_type": "code",
      "execution_count": 174,
      "metadata": {
        "id": "jqNCMpDDnCYl"
      },
      "outputs": [],
      "source": [
        "# DO NOT CHANGE\n",
        "\n",
        "def q18():\n",
        "    return random.choice(q18_raw)"
      ]
    },
    {
      "cell_type": "code",
      "execution_count": 188,
      "metadata": {
        "id": "E8cvcltFq4wn"
      },
      "outputs": [],
      "source": [
        "# YOUR CHANGES HERE\n",
        "prob_dist = {}\n",
        "for t in q18_raw:\n",
        "    prob_dist[t] = prob_dist.get(t, 0) + 1 / len(q18_raw)\n",
        "expValue = sum(q18_raw) / len(q18_raw)\n",
        "p18 = sum([((x - expValue) ** 2) * prob_dist[x] for x in set(q18_raw)])"
      ]
    },
    {
      "cell_type": "code",
      "execution_count": 189,
      "metadata": {},
      "outputs": [
        {
          "data": {
            "text/plain": [
              "2.95"
            ]
          },
          "execution_count": 189,
          "metadata": {},
          "output_type": "execute_result"
        }
      ],
      "source": [
        "p18"
      ]
    },
    {
      "cell_type": "markdown",
      "metadata": {
        "id": "OIv4TecnnLwW"
      },
      "source": [
        "### Problem 19 (4 points)\n",
        "\n",
        "Write a function `p19` that returns the strings \"cat\", \"dog\", \"cow\", \"tiger\" or \"horse\" with equal probability."
      ]
    },
    {
      "cell_type": "code",
      "execution_count": 182,
      "metadata": {
        "id": "CXavfX24nWyL"
      },
      "outputs": [],
      "source": [
        "# YOUR CHANGES HERE\n",
        "\n",
        "def p19():\n",
        "    return random.choice([\"cat\", \"dog\", \"cow\", \"tiger\", \"horse\"])"
      ]
    },
    {
      "cell_type": "code",
      "execution_count": 183,
      "metadata": {},
      "outputs": [
        {
          "data": {
            "text/plain": [
              "['cow',\n",
              " 'horse',\n",
              " 'cat',\n",
              " 'dog',\n",
              " 'cow',\n",
              " 'tiger',\n",
              " 'cow',\n",
              " 'horse',\n",
              " 'tiger',\n",
              " 'horse']"
            ]
          },
          "execution_count": 183,
          "metadata": {},
          "output_type": "execute_result"
        }
      ],
      "source": [
        "[p19() for _ in range(10)]"
      ]
    },
    {
      "cell_type": "markdown",
      "metadata": {
        "id": "WJy4fHQlnYos"
      },
      "source": [
        "### Problem 20 (4 points)\n",
        "\n",
        "Perform a linear regression with inputs `q20x` and target outputs `q20y`.\n",
        "Using that model, make a scatter plot showing the model performance on the training data using the model predictions for the x axis and the target outputs for the y axis.\n",
        "Set `p20` to be the output of the matplotlib command."
      ]
    },
    {
      "cell_type": "code",
      "execution_count": 191,
      "metadata": {
        "id": "nHPm5Fi-olK8"
      },
      "outputs": [],
      "source": [
        "# DO NOT CHANGE\n",
        "\n",
        "q20x = np.array([[0.2, 0.3],\n",
        "                 [0.4, 0.3],\n",
        "                 [0.3, 0.4],\n",
        "                 [0.35, 0.45],\n",
        "                 [0.6, 0.4],\n",
        "                 [0.3, 0.9],\n",
        "                 [0.13, 0.99],\n",
        "                 [0.8, 0.5],\n",
        "                 [0.9, 0.92],\n",
        "                 [0.98, 0.95]])\n",
        "\n",
        "q20y = np.array([0.2, 0.3, 0.4, 0.3, 0.5, 0.6, 0.5, 0.8, 0.9, 0.1])"
      ]
    },
    {
      "cell_type": "code",
      "execution_count": 199,
      "metadata": {
        "id": "qHCZc2VFrDfY"
      },
      "outputs": [
        {
          "data": {
            "image/png": "[encoded data removed]",
            "text/plain": [
              "<Figure size 640x480 with 1 Axes>"
            ]
          },
          "metadata": {},
          "output_type": "display_data"
        }
      ],
      "source": [
        "# YOUR CHANGES HERE\n",
        "LR20 = sklearn.linear_model.LinearRegression().fit(np.array(q20x), np.array(q20y))\n",
        "model_predictions = [LR20.predict(q20x)]\n",
        "\n",
        "p20 = plt.scatter(model_predictions[0], q20y)"
      ]
    }
  ],
  "metadata": {
    "colab": {
      "toc_visible": false
    },
    "kernelspec": {
      "display_name": "Python 3",
      "name": "python3"
    },
    "language_info": {
      "codemirror_mode": {
        "name": "ipython",
        "version": 3
      },
      "file_extension": ".py",
      "mimetype": "text/x-python",
      "name": "python",
      "nbconvert_exporter": "python",
      "pygments_lexer": "ipython3",
      "version": "3.12.1"
    }
  },
  "nbformat": 4,
  "nbformat_minor": 0
}
